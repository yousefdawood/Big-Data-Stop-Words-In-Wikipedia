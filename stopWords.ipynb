{
 "cells": [
  {
   "cell_type": "code",
   "execution_count": 2,
   "metadata": {},
   "outputs": [
    {
     "name": "stdout",
     "output_type": "stream",
     "text": [
      "Overwriting mapper.py\n"
     ]
    }
   ],
   "source": [
    "\n",
    "\n",
    "%%writefile mapper.py\n",
    "\n",
    "import sys\n",
    "import re\n",
    "\n",
    "reload(sys)\n",
    "sys.setdefaultencoding('utf-8') \n",
    "\n",
    "\n",
    "def read_vocabulary(file_path):\n",
    "    return set(word.strip() for word in open(file_path))\n",
    "\n",
    "stop_words = read_vocabulary(\"stop_words_en.txt\")\n",
    "\n",
    "for line in sys.stdin:\n",
    "    try:\n",
    "        article_id, text = unicode(line.strip()).split('\\t', 1)\n",
    "    except ValueError as e:\n",
    "        continue\n",
    "    words = re.split(\"\\W*\\s+\\W*\", text, flags=re.UNICODE)\n",
    "    for word in words:\n",
    "        if word in stop_words:\n",
    "            print >> sys.stderr, \"reporter:counter:Wiki stats,Stop words,%d\" % 1            \n",
    "        print >> sys.stderr, \"reporter:counter:Wiki stats,Total words,%d\" % 1\n",
    "        print \"%s\\t%d\" % (word.lower(), 1)\n",
    "\n"
   ]
  },
  {
   "cell_type": "code",
   "execution_count": 7,
   "metadata": {},
   "outputs": [
    {
     "name": "stdout",
     "output_type": "stream",
     "text": [
      "Overwriting counter_process.py\n"
     ]
    }
   ],
   "source": [
    "\n",
    "%%writefile counter_process.py\n",
    "\n",
    "import re\n",
    "import sys\n",
    "def read_vocabulary(file_path):\n",
    "    return set(word.strip() for word in open(file_path))\n",
    "\n",
    "lines = read_vocabulary(sys.argv[1])\n",
    "\n",
    "Total_words = 0\n",
    "Stop_words = 0\n",
    "for line in lines:\n",
    "    if \"Total words=\" in line:\n",
    "        Total_words = int(re.search(r'\\d+', line).group(0))\n",
    "        \n",
    "    if \"Stop words=\" in line:\n",
    "        Stop_words = int(re.search(r'\\d+', line).group(0))\n",
    "\n",
    "print(Stop_words / float(Total_words) * 100)\n"
   ]
  },
  {
   "cell_type": "code",
   "execution_count": 4,
   "metadata": {},
   "outputs": [
    {
     "name": "stdout",
     "output_type": "stream",
     "text": [
      "38.44036900909957\n"
     ]
    },
    {
     "name": "stderr",
     "output_type": "stream",
     "text": [
      "rm: `wordcount_result_1581421827075344': No such file or directory\n",
      "20/02/11 11:50:31 INFO client.RMProxy: Connecting to ResourceManager at /0.0.0.0:8032\n",
      "20/02/11 11:50:32 INFO client.RMProxy: Connecting to ResourceManager at /0.0.0.0:8032\n",
      "20/02/11 11:50:33 INFO mapred.FileInputFormat: Total input files to process : 1\n",
      "20/02/11 11:50:33 INFO mapreduce.JobSubmitter: number of splits:2\n",
      "20/02/11 11:50:34 INFO mapreduce.JobSubmitter: Submitting tokens for job: job_1581420788885_0001\n",
      "20/02/11 11:50:34 INFO impl.YarnClientImpl: Submitted application application_1581420788885_0001\n",
      "20/02/11 11:50:35 INFO mapreduce.Job: The url to track the job: http://1b3d269503ff:8088/proxy/application_1581420788885_0001/\n",
      "20/02/11 11:50:35 INFO mapreduce.Job: Running job: job_1581420788885_0001\n",
      "20/02/11 11:50:44 INFO mapreduce.Job: Job job_1581420788885_0001 running in uber mode : false\n",
      "20/02/11 11:50:44 INFO mapreduce.Job:  map 0% reduce 0%\n",
      "20/02/11 11:51:02 INFO mapreduce.Job:  map 16% reduce 0%\n",
      "20/02/11 11:51:08 INFO mapreduce.Job:  map 26% reduce 0%\n",
      "20/02/11 11:51:14 INFO mapreduce.Job:  map 36% reduce 0%\n",
      "20/02/11 11:51:20 INFO mapreduce.Job:  map 46% reduce 0%\n",
      "20/02/11 11:51:26 INFO mapreduce.Job:  map 55% reduce 0%\n",
      "20/02/11 11:51:32 INFO mapreduce.Job:  map 65% reduce 0%\n",
      "20/02/11 11:51:38 INFO mapreduce.Job:  map 74% reduce 0%\n",
      "20/02/11 11:51:44 INFO mapreduce.Job:  map 84% reduce 0%\n",
      "20/02/11 11:51:51 INFO mapreduce.Job:  map 93% reduce 0%\n",
      "20/02/11 11:51:56 INFO mapreduce.Job:  map 100% reduce 0%\n",
      "20/02/11 11:51:57 INFO mapreduce.Job: Job job_1581420788885_0001 completed successfully\n",
      "20/02/11 11:51:57 INFO mapreduce.Job: Counters: 32\n",
      "\tFile System Counters\n",
      "\t\tFILE: Number of bytes read=0\n",
      "\t\tFILE: Number of bytes written=278670\n",
      "\t\tFILE: Number of read operations=0\n",
      "\t\tFILE: Number of large read operations=0\n",
      "\t\tFILE: Number of write operations=0\n",
      "\t\tHDFS: Number of bytes read=76874501\n",
      "\t\tHDFS: Number of bytes written=97842427\n",
      "\t\tHDFS: Number of read operations=10\n",
      "\t\tHDFS: Number of large read operations=0\n",
      "\t\tHDFS: Number of write operations=4\n",
      "\tJob Counters \n",
      "\t\tLaunched map tasks=2\n",
      "\t\tData-local map tasks=2\n",
      "\t\tTotal time spent by all maps in occupied slots (ms)=137834\n",
      "\t\tTotal time spent by all reduces in occupied slots (ms)=0\n",
      "\t\tTotal time spent by all map tasks (ms)=137834\n",
      "\t\tTotal vcore-milliseconds taken by all map tasks=137834\n",
      "\t\tTotal megabyte-milliseconds taken by all map tasks=141142016\n",
      "\tMap-Reduce Framework\n",
      "\t\tMap input records=4100\n",
      "\t\tMap output records=11937375\n",
      "\t\tInput split bytes=228\n",
      "\t\tSpilled Records=0\n",
      "\t\tFailed Shuffles=0\n",
      "\t\tMerged Map outputs=0\n",
      "\t\tGC time elapsed (ms)=1754\n",
      "\t\tCPU time spent (ms)=216150\n",
      "\t\tPhysical memory (bytes) snapshot=361480192\n",
      "\t\tVirtual memory (bytes) snapshot=3825889280\n",
      "\t\tTotal committed heap usage (bytes)=218103808\n",
      "\tWiki stats\n",
      "\t\tStop words=4588771\n",
      "\t\tTotal words=11937375\n",
      "\tFile Input Format Counters \n",
      "\t\tBytes Read=76874273\n",
      "\tFile Output Format Counters \n",
      "\t\tBytes Written=97842427\n",
      "20/02/11 11:51:57 INFO streaming.StreamJob: Output directory: wordcount_result_1581421827075344\n"
     ]
    }
   ],
   "source": [
    "%%bash\n",
    "\n",
    "OUT_DIR=\"wordcount_result_stopwords\"\n",
    "NUM_REDUCERS=0\n",
    "LOGS=\"stderr_logs.txt\"\n",
    "\n",
    "hdfs dfs -rm -r -skipTrash ${OUT_DIR} > /dev/null\n",
    "\n",
    "yarn jar /opt/cloudera/parcels/CDH/lib/hadoop-mapreduce/hadoop-streaming.jar \\\n",
    "    -D mapred.jab.name=\"Streaming stopwords\" \\\n",
    "    -D mapreduce.job.reduces=${NUM_REDUCERS} \\\n",
    "    -files mapper.py,/datasets/stop_words_en.txt \\\n",
    "    -mapper \"python mapper.py\" \\\n",
    "    -input /data/wiki/en_articles_part \\\n",
    "    -output ${OUT_DIR} > /dev/null 2> $LOGS\n",
    "    \n",
    "python ./counter_process.py $LOGS\n",
    "\n",
    "cat $LOGS >&2"
   ]
  }
 ],
 "metadata": {
  "kernelspec": {
   "display_name": "Python 2",
   "language": "python",
   "name": "python2"
  },
  "language_info": {
   "codemirror_mode": {
    "name": "ipython",
    "version": 3
   },
   "file_extension": ".py",
   "mimetype": "text/x-python",
   "name": "python",
   "nbconvert_exporter": "python",
   "pygments_lexer": "ipython3",
   "version": "3.6.2"
  }
 },
 "nbformat": 4,
 "nbformat_minor": 2
}
